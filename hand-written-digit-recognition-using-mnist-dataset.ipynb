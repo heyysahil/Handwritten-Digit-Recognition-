{
 "cells": [
  {
   "cell_type": "code",
   "execution_count": 1,
   "id": "693243bd",
   "metadata": {
    "execution": {
     "iopub.execute_input": "2024-06-09T15:18:35.324467Z",
     "iopub.status.busy": "2024-06-09T15:18:35.323895Z",
     "iopub.status.idle": "2024-06-09T15:18:48.925513Z",
     "shell.execute_reply": "2024-06-09T15:18:48.924529Z"
    },
    "papermill": {
     "duration": 13.620191,
     "end_time": "2024-06-09T15:18:48.927817",
     "exception": false,
     "start_time": "2024-06-09T15:18:35.307626",
     "status": "completed"
    },
    "tags": []
   },
   "outputs": [
    {
     "name": "stderr",
     "output_type": "stream",
     "text": [
      "2024-06-09 15:18:37.939665: E external/local_xla/xla/stream_executor/cuda/cuda_dnn.cc:9261] Unable to register cuDNN factory: Attempting to register factory for plugin cuDNN when one has already been registered\n",
      "2024-06-09 15:18:37.939766: E external/local_xla/xla/stream_executor/cuda/cuda_fft.cc:607] Unable to register cuFFT factory: Attempting to register factory for plugin cuFFT when one has already been registered\n",
      "2024-06-09 15:18:38.066139: E external/local_xla/xla/stream_executor/cuda/cuda_blas.cc:1515] Unable to register cuBLAS factory: Attempting to register factory for plugin cuBLAS when one has already been registered\n"
     ]
    }
   ],
   "source": [
    "\n",
    "import os\n",
    "import math\n",
    "import cv2 as cv2\n",
    "from PIL import Image\n",
    "import numpy as np\n",
    "import pandas as pd\n",
    "import matplotlib.pyplot as plt \n",
    "import tensorflow as tf\n",
    "\n",
    "#import keras\n",
    "from keras import models\n",
    "from keras.models import Sequential\n",
    "from keras.layers import Dense, Dropout, Activation, Flatten\n",
    "from keras.layers import Conv2D, MaxPooling2D\n",
    "\n",
    "from keras.layers import Dense, Dropout, Activation, Flatten\n",
    "from keras.layers import Conv2D, MaxPooling2D, GlobalAveragePooling2D\n",
    "from keras.layers import LeakyReLU\n",
    "from tensorflow.keras.preprocessing.image import ImageDataGenerator\n",
    "\n",
    "from keras.preprocessing.image import load_img\n",
    "from keras.preprocessing.image import img_to_array\n",
    "from keras.utils import Sequence, to_categorical\n",
    "#from keras import utils as np_utils\n",
    "\n",
    "from keras.callbacks import EarlyStopping,ModelCheckpoint,ReduceLROnPlateau,TensorBoard, Callback\n",
    "from keras.optimizers import Adam, Optimizer\n",
    "import keras.backend as K\n",
    "\n",
    "from sklearn.metrics import cohen_kappa_score, accuracy_score\n",
    "from sklearn.utils import class_weight\n",
    "\n",
    "import imgaug as ia\n",
    "import imgaug.augmenters as iaa\n",
    "\n",
    "\n",
    "\n",
    "from sklearn.model_selection import KFold, StratifiedKFold\n",
    "\n",
    "import random\n",
    "\n",
    "%matplotlib inline\n",
    "\n",
    "\n",
    "\n"
   ]
  },
  {
   "cell_type": "markdown",
   "id": "caf741ef",
   "metadata": {
    "papermill": {
     "duration": 0.014348,
     "end_time": "2024-06-09T15:18:48.956972",
     "exception": false,
     "start_time": "2024-06-09T15:18:48.942624",
     "status": "completed"
    },
    "tags": []
   },
   "source": [
    "****1. We will Implement a basic Convolutional Neural Networks(CNN) using TensorFlow 2.x Keras API. The dataset that we will work it is the MNIST dataset.**\n",
    "\n",
    "****   To prepare our notebook, run the next cell to import the necessary packages and change the accelerator from ```None``` to ```GPU```.****"
   ]
  },
  {
   "cell_type": "code",
   "execution_count": 2,
   "id": "2eba4dab",
   "metadata": {
    "execution": {
     "iopub.execute_input": "2024-06-09T15:18:48.988635Z",
     "iopub.status.busy": "2024-06-09T15:18:48.988107Z",
     "iopub.status.idle": "2024-06-09T15:18:49.241384Z",
     "shell.execute_reply": "2024-06-09T15:18:49.240651Z"
    },
    "papermill": {
     "duration": 0.272203,
     "end_time": "2024-06-09T15:18:49.243481",
     "exception": false,
     "start_time": "2024-06-09T15:18:48.971278",
     "status": "completed"
    },
    "tags": []
   },
   "outputs": [],
   "source": [
    "# LOAD LIBRARIES\n",
    "import pandas as pd\n",
    "import numpy as np\n",
    "import seaborn as sns\n",
    "import matplotlib.image as mpimg\n",
    "from sklearn.model_selection import train_test_split\n",
    "#from keras.utils.np_utils import to_categorical\n",
    "from keras.models import Sequential\n",
    "from keras.layers import Dense, Dropout, Flatten, Conv2D, MaxPool2D, AvgPool2D, BatchNormalization, Reshape\n",
    "from keras.callbacks import LearningRateScheduler\n",
    "import matplotlib.pyplot as plt\n",
    "import tensorflow as tf\n",
    "from tensorflow import keras\n",
    "from tensorflow.keras import datasets, layers, models\n",
    "from sklearn.metrics import classification_report,confusion_matrix\n",
    "from sklearn.model_selection import train_test_split\n",
    "from sklearn.metrics import classification_report,confusion_matrix\n",
    "from keras.callbacks import ReduceLROnPlateau\n",
    "# GLOBAL VARIABLES\n",
    "annealer = LearningRateScheduler(lambda x: 1e-3 * 0.95 ** x, verbose=0)\n",
    "styles=[':','-.','--','-',':','-.','--','-',':','-.','--','-']\n"
   ]
  },
  {
   "cell_type": "code",
   "execution_count": 3,
   "id": "eef94aa7",
   "metadata": {
    "execution": {
     "iopub.execute_input": "2024-06-09T15:18:49.273941Z",
     "iopub.status.busy": "2024-06-09T15:18:49.273673Z",
     "iopub.status.idle": "2024-06-09T15:18:49.278580Z",
     "shell.execute_reply": "2024-06-09T15:18:49.277752Z"
    },
    "papermill": {
     "duration": 0.022542,
     "end_time": "2024-06-09T15:18:49.280788",
     "exception": false,
     "start_time": "2024-06-09T15:18:49.258246",
     "status": "completed"
    },
    "tags": []
   },
   "outputs": [
    {
     "name": "stdout",
     "output_type": "stream",
     "text": [
      "2.15.0\n"
     ]
    }
   ],
   "source": [
    "import tensorflow as tf\n",
    "import seaborn as sns\n",
    "import numpy as np\n",
    "import pandas as pd\n",
    "import matplotlib.pyplot as plt\n",
    "import matplotlib.image as mpimg\n",
    "\n",
    "print(tf.__version__)"
   ]
  },
  {
   "cell_type": "markdown",
   "id": "e2843450",
   "metadata": {
    "papermill": {
     "duration": 0.014356,
     "end_time": "2024-06-09T15:18:49.317817",
     "exception": false,
     "start_time": "2024-06-09T15:18:49.303461",
     "status": "completed"
    },
    "tags": []
   },
   "source": [
    "# 2. Data Preprocessing\n",
    "\n",
    "*1. **Before building any ML model, it is important to preprocess the data. In fact, data preprocessing will generally take up the most time in any ML pipeline. The following module goes over the steps to preprocess the MNIST dataset for our purposes.**"
   ]
  },
  {
   "cell_type": "markdown",
   "id": "275db53c",
   "metadata": {
    "papermill": {
     "duration": 0.014351,
     "end_time": "2024-06-09T15:18:49.346758",
     "exception": false,
     "start_time": "2024-06-09T15:18:49.332407",
     "status": "completed"
    },
    "tags": []
   },
   "source": [
    "****## 2.1 Load Data\n",
    "\n",
    "Our first step is to load the data and divide it into a training and testing dataset. The MNIST dataset can be downloaded directly from TensorFlow and has already been divided. Run the next cell to import the data.\n",
    "\n",
    "``` x_train ``` is the dataset of 28x28 images of handwritten digits that the model will be trained on.\n",
    "\n",
    "```y_train``` is the dataset of labels that correspond to ```x_train```. \n",
    "\n",
    "``` x_test ``` is the dataset of 28x28 images of handwritten digits that the model will be tested on.\n",
    "\n",
    "```y_test``` is the dataset of labels that correspond to ```x_test```. ********"
   ]
  },
  {
   "cell_type": "code",
   "execution_count": 4,
   "id": "0beda97b",
   "metadata": {
    "execution": {
     "iopub.execute_input": "2024-06-09T15:18:49.377011Z",
     "iopub.status.busy": "2024-06-09T15:18:49.376724Z",
     "iopub.status.idle": "2024-06-09T15:18:49.767167Z",
     "shell.execute_reply": "2024-06-09T15:18:49.766414Z"
    },
    "papermill": {
     "duration": 0.408098,
     "end_time": "2024-06-09T15:18:49.769371",
     "exception": false,
     "start_time": "2024-06-09T15:18:49.361273",
     "status": "completed"
    },
    "tags": []
   },
   "outputs": [
    {
     "name": "stdout",
     "output_type": "stream",
     "text": [
      "Downloading data from https://storage.googleapis.com/tensorflow/tf-keras-datasets/mnist.npz\n",
      "\u001b[1m11490434/11490434\u001b[0m \u001b[32m━━━━━━━━━━━━━━━━━━━━\u001b[0m\u001b[37m\u001b[0m \u001b[1m0s\u001b[0m 0us/step\n"
     ]
    }
   ],
   "source": [
    "(x_train, y_train), (x_test, y_test) = datasets.mnist.load_data()\n"
   ]
  },
  {
   "cell_type": "markdown",
   "id": "5a98d43b",
   "metadata": {
    "papermill": {
     "duration": 0.014594,
     "end_time": "2024-06-09T15:18:49.799389",
     "exception": false,
     "start_time": "2024-06-09T15:18:49.784795",
     "status": "completed"
    },
    "tags": []
   },
   "source": [
    "**Run the following code to see the counts of each digit present in our training dataset.**"
   ]
  },
  {
   "cell_type": "code",
   "execution_count": 5,
   "id": "74fe03bf",
   "metadata": {
    "execution": {
     "iopub.execute_input": "2024-06-09T15:18:49.831522Z",
     "iopub.status.busy": "2024-06-09T15:18:49.830942Z",
     "iopub.status.idle": "2024-06-09T15:18:51.462215Z",
     "shell.execute_reply": "2024-06-09T15:18:51.461290Z"
    },
    "papermill": {
     "duration": 1.64902,
     "end_time": "2024-06-09T15:18:51.464245",
     "exception": false,
     "start_time": "2024-06-09T15:18:49.815225",
     "status": "completed"
    },
    "tags": []
   },
   "outputs": [
    {
     "name": "stdout",
     "output_type": "stream",
     "text": [
      "[19605 54081 30897 13354 45539  4158 16714 13148]\n"
     ]
    },
    {
     "data": {
      "image/png": "[encoded data removed]",
      "text/plain": [
       "<Figure size 1000x1000 with 8 Axes>"
      ]
     },
     "metadata": {},
     "output_type": "display_data"
    }
   ],
   "source": [
    "# show image of training data\n",
    "import numpy as np\n",
    "import matplotlib.pyplot as plt\n",
    "\n",
    "plt.figure(figsize = (10, 10)) # set size of figure 10x10\n",
    "rand_indexes = np.random.randint(0, x_train.shape[0], 8) # select 8 digits(0~9) randomly \n",
    "print(rand_indexes)\n",
    "\n",
    "for index,im_index in enumerate(rand_indexes):\n",
    "    plt.subplot(4, 4, index+1)\n",
    "    plt.imshow(x_train[im_index], cmap = 'gray', interpolation = 'none')\n",
    "    plt.title('Class %d' % y_train[im_index])\n",
    "plt.tight_layout()"
   ]
  },
  {
   "cell_type": "code",
   "execution_count": 6,
   "id": "0c14e42d",
   "metadata": {
    "execution": {
     "iopub.execute_input": "2024-06-09T15:18:51.496306Z",
     "iopub.status.busy": "2024-06-09T15:18:51.495974Z",
     "iopub.status.idle": "2024-06-09T15:18:51.694148Z",
     "shell.execute_reply": "2024-06-09T15:18:51.693272Z"
    },
    "papermill": {
     "duration": 0.216272,
     "end_time": "2024-06-09T15:18:51.696130",
     "exception": false,
     "start_time": "2024-06-09T15:18:51.479858",
     "status": "completed"
    },
    "tags": []
   },
   "outputs": [
    {
     "data": {
      "text/plain": [
       "<Axes: ylabel='count'>"
      ]
     },
     "execution_count": 6,
     "metadata": {},
     "output_type": "execute_result"
    },
    {
     "data": {
      "image/png": "[encoded data removed]",
      "text/plain": [
       "<Figure size 640x480 with 1 Axes>"
      ]
     },
     "metadata": {},
     "output_type": "display_data"
    }
   ],
   "source": [
    "sns.countplot(y_train)"
   ]
  },
  {
   "cell_type": "markdown",
   "id": "d8f8feb0",
   "metadata": {
    "papermill": {
     "duration": 0.01588,
     "end_time": "2024-06-09T15:18:51.727849",
     "exception": false,
     "start_time": "2024-06-09T15:18:51.711969",
     "status": "completed"
    },
    "tags": []
   },
   "source": [
    "**There are similar counts for each digit. This is good as the model will have \n",
    "enough images for each class to train the features for each class. There is no need to downsample or upweigh.**"
   ]
  },
  {
   "cell_type": "markdown",
   "id": "4598a9fa",
   "metadata": {
    "papermill": {
     "duration": 0.015688,
     "end_time": "2024-06-09T15:18:51.759259",
     "exception": false,
     "start_time": "2024-06-09T15:18:51.743571",
     "status": "completed"
    },
    "tags": []
   },
   "source": []
  },
  {
   "cell_type": "markdown",
   "id": "9b9ebd25",
   "metadata": {
    "papermill": {
     "duration": 0.015491,
     "end_time": "2024-06-09T15:18:51.790853",
     "exception": false,
     "start_time": "2024-06-09T15:18:51.775362",
     "status": "completed"
    },
    "tags": []
   },
   "source": [
    "## 2.2 Check for NaN Values\n"
   ]
  },
  {
   "cell_type": "code",
   "execution_count": 7,
   "id": "8f5bca55",
   "metadata": {
    "execution": {
     "iopub.execute_input": "2024-06-09T15:18:51.824932Z",
     "iopub.status.busy": "2024-06-09T15:18:51.824658Z",
     "iopub.status.idle": "2024-06-09T15:18:51.845324Z",
     "shell.execute_reply": "2024-06-09T15:18:51.844453Z"
    },
    "papermill": {
     "duration": 0.040502,
     "end_time": "2024-06-09T15:18:51.847192",
     "exception": false,
     "start_time": "2024-06-09T15:18:51.806690",
     "status": "completed"
    },
    "tags": []
   },
   "outputs": [
    {
     "data": {
      "text/plain": [
       "False"
      ]
     },
     "execution_count": 7,
     "metadata": {},
     "output_type": "execute_result"
    }
   ],
   "source": [
    "np.isnan(x_train).any()"
   ]
  },
  {
   "cell_type": "code",
   "execution_count": 8,
   "id": "af364b88",
   "metadata": {
    "execution": {
     "iopub.execute_input": "2024-06-09T15:18:51.880873Z",
     "iopub.status.busy": "2024-06-09T15:18:51.880596Z",
     "iopub.status.idle": "2024-06-09T15:18:51.888562Z",
     "shell.execute_reply": "2024-06-09T15:18:51.887698Z"
    },
    "papermill": {
     "duration": 0.026572,
     "end_time": "2024-06-09T15:18:51.890418",
     "exception": false,
     "start_time": "2024-06-09T15:18:51.863846",
     "status": "completed"
    },
    "tags": []
   },
   "outputs": [
    {
     "data": {
      "text/plain": [
       "False"
      ]
     },
     "execution_count": 8,
     "metadata": {},
     "output_type": "execute_result"
    }
   ],
   "source": [
    "np.isnan(x_test).any()"
   ]
  },
  {
   "cell_type": "markdown",
   "id": "0a764171",
   "metadata": {
    "papermill": {
     "duration": 0.015788,
     "end_time": "2024-06-09T15:18:51.922866",
     "exception": false,
     "start_time": "2024-06-09T15:18:51.907078",
     "status": "completed"
    },
    "tags": []
   },
   "source": [
    "There are no NaN values in our dataset. There is no need to preprocess the data to deal with Nan's."
   ]
  },
  {
   "cell_type": "markdown",
   "id": "6440067f",
   "metadata": {
    "papermill": {
     "duration": 0.01599,
     "end_time": "2024-06-09T15:18:51.954845",
     "exception": false,
     "start_time": "2024-06-09T15:18:51.938855",
     "status": "completed"
    },
    "tags": []
   },
   "source": [
    "## 2.3 Normalization and Reshaping\n",
    "\n",
    "Since the values in our ```x_train``` dataset are 28x28 images, our input shape must be specified so that our model will know what is being inputed.\n",
    "\n",
    "The first convolution layer expects a single 60000x28x28x1 tensor instead of 60000 28x28x1 tensors.\n",
    "\n",
    "Models generally run better on normalized values. The best way to normalize the data depends on each individual dataset. For the MNIST dataset, we want each value to be between 0.0 and 1.0. As all values originally fall under the 0.0-255.0 range, divide by 255.0.\n",
    "\n",
    "Run the following cell to define the ```input_shape``` and to normalize and reshape the data."
   ]
  },
  {
   "cell_type": "code",
   "execution_count": 9,
   "id": "14086803",
   "metadata": {
    "execution": {
     "iopub.execute_input": "2024-06-09T15:18:51.987877Z",
     "iopub.status.busy": "2024-06-09T15:18:51.987618Z",
     "iopub.status.idle": "2024-06-09T15:18:52.125841Z",
     "shell.execute_reply": "2024-06-09T15:18:52.125060Z"
    },
    "papermill": {
     "duration": 0.157349,
     "end_time": "2024-06-09T15:18:52.128174",
     "exception": false,
     "start_time": "2024-06-09T15:18:51.970825",
     "status": "completed"
    },
    "tags": []
   },
   "outputs": [],
   "source": [
    "input_shape = (28, 28, 1)\n",
    "\n",
    "x_train=x_train.reshape(x_train.shape[0], x_train.shape[1], x_train.shape[2], 1)\n",
    "x_train=x_train / 255.0\n",
    "x_test = x_test.reshape(x_test.shape[0], x_test.shape[1], x_test.shape[2], 1)\n",
    "x_test=x_test/255.0"
   ]
  },
  {
   "cell_type": "markdown",
   "id": "942cafff",
   "metadata": {
    "papermill": {
     "duration": 0.015859,
     "end_time": "2024-06-09T15:18:52.160543",
     "exception": false,
     "start_time": "2024-06-09T15:18:52.144684",
     "status": "completed"
    },
    "tags": []
   },
   "source": [
    "## 2.4 Label Encoding\n",
    "\n",
    "The labels for the training and the testing dataset are currently categorical and is not continuous. To include categorical dataset in our model, our labels should be converted to one-hot encodings.\n",
    "\n",
    "For example, ```2``` becomes ```[0,0,1,0,0,0,0,0,0,0]``` and ```7``` becomes ```[0,0,0,0,0,0,0,1,0,0]```.\n",
    "\n",
    "Run the following cell to transform the labels into one-hot encodings"
   ]
  },
  {
   "cell_type": "code",
   "execution_count": 10,
   "id": "da641c0f",
   "metadata": {
    "execution": {
     "iopub.execute_input": "2024-06-09T15:18:52.193947Z",
     "iopub.status.busy": "2024-06-09T15:18:52.193630Z",
     "iopub.status.idle": "2024-06-09T15:18:53.005636Z",
     "shell.execute_reply": "2024-06-09T15:18:53.003548Z"
    },
    "papermill": {
     "duration": 0.831663,
     "end_time": "2024-06-09T15:18:53.008357",
     "exception": false,
     "start_time": "2024-06-09T15:18:52.176694",
     "status": "completed"
    },
    "tags": []
   },
   "outputs": [],
   "source": [
    "y_train = tf.one_hot(y_train.astype(np.int32), depth=10)\n",
    "y_test = tf.one_hot(y_test.astype(np.int32), depth=10)"
   ]
  },
  {
   "cell_type": "markdown",
   "id": "a5ee14a6",
   "metadata": {
    "papermill": {
     "duration": 0.016078,
     "end_time": "2024-06-09T15:18:53.043807",
     "exception": false,
     "start_time": "2024-06-09T15:18:53.027729",
     "status": "completed"
    },
    "tags": []
   },
   "source": [
    "## 2.5 Visualize Data\n",
    "\n",
    "Run the following cell to visualize an image in our dataset."
   ]
  },
  {
   "cell_type": "code",
   "execution_count": 11,
   "id": "0edb85c8",
   "metadata": {
    "execution": {
     "iopub.execute_input": "2024-06-09T15:18:53.117132Z",
     "iopub.status.busy": "2024-06-09T15:18:53.116752Z",
     "iopub.status.idle": "2024-06-09T15:18:53.394045Z",
     "shell.execute_reply": "2024-06-09T15:18:53.393076Z"
    },
    "papermill": {
     "duration": 0.29677,
     "end_time": "2024-06-09T15:18:53.396071",
     "exception": false,
     "start_time": "2024-06-09T15:18:53.099301",
     "status": "completed"
    },
    "tags": []
   },
   "outputs": [
    {
     "name": "stdout",
     "output_type": "stream",
     "text": [
      "tf.Tensor([0. 0. 0. 0. 0. 1. 0. 0. 0. 0.], shape=(10,), dtype=float32)\n"
     ]
    },
    {
     "data": {
      "image/png": "[encoded data removed]",
      "text/plain": [
       "<Figure size 640x480 with 1 Axes>"
      ]
     },
     "metadata": {},
     "output_type": "display_data"
    }
   ],
   "source": [
    "plt.imshow(x_train[100][:,:,0])\n",
    "print(y_train[100])"
   ]
  },
  {
   "cell_type": "markdown",
   "id": "cace4cbc",
   "metadata": {
    "papermill": {
     "duration": 0.016278,
     "end_time": "2024-06-09T15:18:53.429173",
     "exception": false,
     "start_time": "2024-06-09T15:18:53.412895",
     "status": "completed"
    },
    "tags": []
   },
   "source": [
    "The image is an image of a handwritten ```5```. The one-hot encoding holds the value of ```5```."
   ]
  },
  {
   "cell_type": "markdown",
   "id": "a02e3796",
   "metadata": {
    "papermill": {
     "duration": 0.016135,
     "end_time": "2024-06-09T15:18:53.461743",
     "exception": false,
     "start_time": "2024-06-09T15:18:53.445608",
     "status": "completed"
    },
    "tags": []
   },
   "source": [
    "# 3. CNN\n",
    "\n",
    "In this module, we will build our CNN model."
   ]
  },
  {
   "cell_type": "markdown",
   "id": "5927c27f",
   "metadata": {
    "papermill": {
     "duration": 0.016165,
     "end_time": "2024-06-09T15:18:53.494313",
     "exception": false,
     "start_time": "2024-06-09T15:18:53.478148",
     "status": "completed"
    },
    "tags": []
   },
   "source": [
    "## 3.1 Define the Model\n",
    "Run the following cell to define ```batch_size```, ```num_classes```, and ```epochs```. Try changing the values and test how different values affect the accuracy of the CNN model."
   ]
  },
  {
   "cell_type": "code",
   "execution_count": 12,
   "id": "d1dd42bc",
   "metadata": {
    "execution": {
     "iopub.execute_input": "2024-06-09T15:18:53.528472Z",
     "iopub.status.busy": "2024-06-09T15:18:53.528183Z",
     "iopub.status.idle": "2024-06-09T15:18:53.532238Z",
     "shell.execute_reply": "2024-06-09T15:18:53.531314Z"
    },
    "papermill": {
     "duration": 0.023304,
     "end_time": "2024-06-09T15:18:53.534117",
     "exception": false,
     "start_time": "2024-06-09T15:18:53.510813",
     "status": "completed"
    },
    "tags": []
   },
   "outputs": [],
   "source": [
    "batch_size = 64\n",
    "num_classes = 10\n",
    "epochs = 5"
   ]
  },
  {
   "cell_type": "markdown",
   "id": "ebf51ed9",
   "metadata": {
    "papermill": {
     "duration": 0.016627,
     "end_time": "2024-06-09T15:18:53.567173",
     "exception": false,
     "start_time": "2024-06-09T15:18:53.550546",
     "status": "completed"
    },
    "tags": []
   },
   "source": [
    "Run the following cell to build the model. The model contains various layers stacked on top of each other. The output of one layer feeds into the input of the next layer.\n",
    "\n",
    "Conv2D layers are convolutions. Each filter (32 in the first two convolution layers and 64 in the next two convolution layers) transforms a part of the image (5x5 for the first two Conv2D layers and 3x3 for the next two Conv2D layers). The transformation is applied on the whole image.\n",
    "\n",
    "MaxPool2D is a downsampling filter. It reduces a 2x2 matrix of the image to a single pixel with the maximum value of the 2x2 matrix. The filter aims to conserve the main features of the image while reducing the size.\n",
    "\n",
    "\n",
    "```relu``` is the rectifier, and it is used to find nonlinearity in the data. It works by returning the input value if the input value >= 0. If the input is negative, it returns 0.\n",
    "\n",
    "Flatten converts the tensors into a 1D vector.\n",
    "\n",
    "The Dense layers are an artificial neural network. The last layer returns the probability that an image is in each class (one for each digit).\n",
    "\n",
    "As this model aims to categorize the images, we will use a ```categorical_crossentropy``` loss function. "
   ]
  },
  {
   "cell_type": "code",
   "execution_count": 13,
   "id": "5f22d8d7",
   "metadata": {
    "execution": {
     "iopub.execute_input": "2024-06-09T15:18:53.601574Z",
     "iopub.status.busy": "2024-06-09T15:18:53.601292Z",
     "iopub.status.idle": "2024-06-09T15:18:53.715887Z",
     "shell.execute_reply": "2024-06-09T15:18:53.714744Z"
    },
    "papermill": {
     "duration": 0.134036,
     "end_time": "2024-06-09T15:18:53.717895",
     "exception": false,
     "start_time": "2024-06-09T15:18:53.583859",
     "status": "completed"
    },
    "tags": []
   },
   "outputs": [
    {
     "name": "stderr",
     "output_type": "stream",
     "text": [
      "/opt/conda/lib/python3.10/site-packages/keras/src/layers/convolutional/base_conv.py:107: UserWarning: Do not pass an `input_shape`/`input_dim` argument to a layer. When using Sequential models, prefer using an `Input(shape)` object as the first layer in the model instead.\n",
      "  super().__init__(activity_regularizer=activity_regularizer, **kwargs)\n"
     ]
    }
   ],
   "source": [
    "model = tf.keras.models.Sequential([\n",
    "    tf.keras.layers.Conv2D(32, (5,5), padding='same', activation='relu', input_shape=input_shape),\n",
    "    tf.keras.layers.Conv2D(32, (5,5), padding='same', activation='relu'),\n",
    "    tf.keras.layers.MaxPool2D(),\n",
    "    tf.keras.layers.Conv2D(64, (3,3), padding='same', activation='relu'),\n",
    "    tf.keras.layers.Conv2D(64, (3,3), padding='same', activation='relu'),\n",
    "    tf.keras.layers.MaxPool2D(strides=(2,2)),\n",
    "    tf.keras.layers.Flatten(),\n",
    "    tf.keras.layers.Dense(128, activation='relu'),\n",
    "    tf.keras.layers.Dense(num_classes, activation='softmax')\n",
    "])\n",
    "\n",
    "model.compile(optimizer=tf.keras.optimizers.RMSprop(epsilon=1e-08), loss='categorical_crossentropy', metrics=['acc'])\n"
   ]
  },
  {
   "cell_type": "markdown",
   "id": "632dc599",
   "metadata": {
    "papermill": {
     "duration": 0.016317,
     "end_time": "2024-06-09T15:18:53.750820",
     "exception": false,
     "start_time": "2024-06-09T15:18:53.734503",
     "status": "completed"
    },
    "tags": []
   },
   "source": [
    "## 3.2 Fit the Training Data\n",
    "\n",
    "The next step is to fit our training data. If we achieve a certain level of accuracy, it may not be necessary to continue training the model, especially if time and resources are limited.\n",
    "\n",
    "The following cell defines a CallBack so that if 99.5% accuracy is achieved, the model stops training."
   ]
  },
  {
   "cell_type": "code",
   "execution_count": 14,
   "id": "42bdedc1",
   "metadata": {
    "execution": {
     "iopub.execute_input": "2024-06-09T15:18:53.785601Z",
     "iopub.status.busy": "2024-06-09T15:18:53.784925Z",
     "iopub.status.idle": "2024-06-09T15:18:53.790110Z",
     "shell.execute_reply": "2024-06-09T15:18:53.789309Z"
    },
    "papermill": {
     "duration": 0.024372,
     "end_time": "2024-06-09T15:18:53.791927",
     "exception": false,
     "start_time": "2024-06-09T15:18:53.767555",
     "status": "completed"
    },
    "tags": []
   },
   "outputs": [],
   "source": [
    "class myCallback(tf.keras.callbacks.Callback):\n",
    "  def on_epoch_end(self, epoch, logs={}):\n",
    "    if(logs.get('acc')>0.995):\n",
    "      print(\"\\nReached 99.5% accuracy so cancelling training!\")\n",
    "      self.model.stop_training = True\n",
    "\n",
    "callbacks = myCallback()"
   ]
  },
  {
   "cell_type": "markdown",
   "id": "9e5ba3d0",
   "metadata": {
    "papermill": {
     "duration": 0.017247,
     "end_time": "2024-06-09T15:18:53.825472",
     "exception": false,
     "start_time": "2024-06-09T15:18:53.808225",
     "status": "completed"
    },
    "tags": []
   },
   "source": [
    "Testing the model on a validation dataset prevents overfitting of the data. We specified a 10% validation and 90% training split."
   ]
  },
  {
   "cell_type": "code",
   "execution_count": 15,
   "id": "cedfd6c6",
   "metadata": {
    "execution": {
     "iopub.execute_input": "2024-06-09T15:18:53.859165Z",
     "iopub.status.busy": "2024-06-09T15:18:53.858888Z",
     "iopub.status.idle": "2024-06-09T15:19:22.561264Z",
     "shell.execute_reply": "2024-06-09T15:19:22.560360Z"
    },
    "papermill": {
     "duration": 28.721697,
     "end_time": "2024-06-09T15:19:22.563415",
     "exception": false,
     "start_time": "2024-06-09T15:18:53.841718",
     "status": "completed"
    },
    "tags": []
   },
   "outputs": [
    {
     "name": "stdout",
     "output_type": "stream",
     "text": [
      "Epoch 1/5\n",
      "\u001b[1m 36/844\u001b[0m \u001b[37m━━━━━━━━━━━━━━━━━━━━\u001b[0m \u001b[1m3s\u001b[0m 4ms/step - acc: 0.4091 - loss: 1.7138"
     ]
    },
    {
     "name": "stderr",
     "output_type": "stream",
     "text": [
      "WARNING: All log messages before absl::InitializeLog() is called are written to STDERR\n",
      "I0000 00:00:1717946339.612694      73 device_compiler.h:186] Compiled cluster using XLA!  This line is logged at most once for the lifetime of the process.\n",
      "W0000 00:00:1717946339.629717      73 graph_launch.cc:671] Fallback to op-by-op mode because memset node breaks graph update\n"
     ]
    },
    {
     "name": "stdout",
     "output_type": "stream",
     "text": [
      "\u001b[1m844/844\u001b[0m \u001b[32m━━━━━━━━━━━━━━━━━━━━\u001b[0m\u001b[37m\u001b[0m \u001b[1m0s\u001b[0m 7ms/step - acc: 0.8923 - loss: 0.3325"
     ]
    },
    {
     "name": "stderr",
     "output_type": "stream",
     "text": [
      "W0000 00:00:1717946345.864798      73 graph_launch.cc:671] Fallback to op-by-op mode because memset node breaks graph update\n",
      "W0000 00:00:1717946346.618762      73 graph_launch.cc:671] Fallback to op-by-op mode because memset node breaks graph update\n"
     ]
    },
    {
     "name": "stdout",
     "output_type": "stream",
     "text": [
      "\u001b[1m844/844\u001b[0m \u001b[32m━━━━━━━━━━━━━━━━━━━━\u001b[0m\u001b[37m\u001b[0m \u001b[1m13s\u001b[0m 9ms/step - acc: 0.8923 - loss: 0.3322 - val_acc: 0.9873 - val_loss: 0.0445\n",
      "Epoch 2/5\n",
      "\u001b[1m 18/844\u001b[0m \u001b[37m━━━━━━━━━━━━━━━━━━━━\u001b[0m \u001b[1m5s\u001b[0m 6ms/step - acc: 0.9901 - loss: 0.0258"
     ]
    },
    {
     "name": "stderr",
     "output_type": "stream",
     "text": [
      "W0000 00:00:1717946347.240670      70 graph_launch.cc:671] Fallback to op-by-op mode because memset node breaks graph update\n"
     ]
    },
    {
     "name": "stdout",
     "output_type": "stream",
     "text": [
      "\u001b[1m844/844\u001b[0m \u001b[32m━━━━━━━━━━━━━━━━━━━━\u001b[0m\u001b[37m\u001b[0m \u001b[1m4s\u001b[0m 5ms/step - acc: 0.9880 - loss: 0.0384 - val_acc: 0.9928 - val_loss: 0.0319\n",
      "Epoch 3/5\n",
      "\u001b[1m844/844\u001b[0m \u001b[32m━━━━━━━━━━━━━━━━━━━━\u001b[0m\u001b[37m\u001b[0m \u001b[1m4s\u001b[0m 4ms/step - acc: 0.9916 - loss: 0.0268 - val_acc: 0.9897 - val_loss: 0.0398\n",
      "Epoch 4/5\n",
      "\u001b[1m844/844\u001b[0m \u001b[32m━━━━━━━━━━━━━━━━━━━━\u001b[0m\u001b[37m\u001b[0m \u001b[1m4s\u001b[0m 4ms/step - acc: 0.9942 - loss: 0.0211 - val_acc: 0.9912 - val_loss: 0.0378\n",
      "Epoch 5/5\n",
      "\u001b[1m844/844\u001b[0m \u001b[32m━━━━━━━━━━━━━━━━━━━━\u001b[0m\u001b[37m\u001b[0m \u001b[1m4s\u001b[0m 4ms/step - acc: 0.9948 - loss: 0.0163 - val_acc: 0.9918 - val_loss: 0.0308\n"
     ]
    }
   ],
   "source": [
    "history = model.fit(x_train, y_train,\n",
    "                    batch_size=batch_size,\n",
    "                    epochs=epochs,\n",
    "                    validation_split=0.1,\n",
    "                    callbacks=[callbacks])"
   ]
  },
  {
   "cell_type": "markdown",
   "id": "555e981f",
   "metadata": {
    "papermill": {
     "duration": 0.044658,
     "end_time": "2024-06-09T15:19:22.653900",
     "exception": false,
     "start_time": "2024-06-09T15:19:22.609242",
     "status": "completed"
    },
    "tags": []
   },
   "source": [
    "# 4. Evaluate the Model\n",
    "Evaluate the model on the test set and analyze the accuracy\n"
   ]
  },
  {
   "cell_type": "code",
   "execution_count": 16,
   "id": "f0ea6763",
   "metadata": {
    "execution": {
     "iopub.execute_input": "2024-06-09T15:19:22.746316Z",
     "iopub.status.busy": "2024-06-09T15:19:22.745720Z",
     "iopub.status.idle": "2024-06-09T15:19:23.532942Z",
     "shell.execute_reply": "2024-06-09T15:19:23.531997Z"
    },
    "papermill": {
     "duration": 0.836494,
     "end_time": "2024-06-09T15:19:23.534990",
     "exception": false,
     "start_time": "2024-06-09T15:19:22.698496",
     "status": "completed"
    },
    "tags": []
   },
   "outputs": [
    {
     "name": "stdout",
     "output_type": "stream",
     "text": [
      "\u001b[1m1/1\u001b[0m \u001b[32m━━━━━━━━━━━━━━━━━━━━\u001b[0m\u001b[37m\u001b[0m \u001b[1m1s\u001b[0m 738ms/step\n",
      "7\n"
     ]
    }
   ],
   "source": [
    "#test model\n",
    "preds = model.predict(x_test[0].reshape(-1,28,28,1))\n",
    "print(int(np.argmax(preds)))"
   ]
  },
  {
   "cell_type": "code",
   "execution_count": 17,
   "id": "1912d823",
   "metadata": {
    "execution": {
     "iopub.execute_input": "2024-06-09T15:19:23.627527Z",
     "iopub.status.busy": "2024-06-09T15:19:23.627224Z",
     "iopub.status.idle": "2024-06-09T15:19:26.218201Z",
     "shell.execute_reply": "2024-06-09T15:19:26.217267Z"
    },
    "papermill": {
     "duration": 2.63932,
     "end_time": "2024-06-09T15:19:26.220071",
     "exception": false,
     "start_time": "2024-06-09T15:19:23.580751",
     "status": "completed"
    },
    "tags": []
   },
   "outputs": [
    {
     "name": "stdout",
     "output_type": "stream",
     "text": [
      "\u001b[1m313/313\u001b[0m \u001b[32m━━━━━━━━━━━━━━━━━━━━\u001b[0m\u001b[37m\u001b[0m \u001b[1m2s\u001b[0m 4ms/step - acc: 0.9918 - loss: 0.0216\n",
      "Test loss:  0.01900561898946762\n",
      "Test accuracy:  0.9939000010490417\n"
     ]
    }
   ],
   "source": [
    "#Evaluate Model\n",
    "score = model.evaluate(x_test, y_test)\n",
    "print('Test loss: ', score[0])\n",
    "print('Test accuracy: ', score[1])"
   ]
  },
  {
   "cell_type": "code",
   "execution_count": 18,
   "id": "79b26d17",
   "metadata": {
    "execution": {
     "iopub.execute_input": "2024-06-09T15:19:26.313981Z",
     "iopub.status.busy": "2024-06-09T15:19:26.313700Z",
     "iopub.status.idle": "2024-06-09T15:19:26.493356Z",
     "shell.execute_reply": "2024-06-09T15:19:26.492520Z"
    },
    "papermill": {
     "duration": 0.228479,
     "end_time": "2024-06-09T15:19:26.495215",
     "exception": false,
     "start_time": "2024-06-09T15:19:26.266736",
     "status": "completed"
    },
    "tags": []
   },
   "outputs": [
    {
     "name": "stdout",
     "output_type": "stream",
     "text": [
      "tf.Tensor([0. 0. 0. 0. 0. 0. 1. 0. 0. 0.], shape=(10,), dtype=float32)\n"
     ]
    },
    {
     "data": {
      "image/png": "[encoded data removed]",
      "text/plain": [
       "<Figure size 640x480 with 1 Axes>"
      ]
     },
     "metadata": {},
     "output_type": "display_data"
    }
   ],
   "source": [
    "plt.imshow(x_test[100][:,:,0])\n",
    "print(y_test[100])"
   ]
  },
  {
   "cell_type": "code",
   "execution_count": 19,
   "id": "bffac103",
   "metadata": {
    "execution": {
     "iopub.execute_input": "2024-06-09T15:19:26.589252Z",
     "iopub.status.busy": "2024-06-09T15:19:26.588941Z",
     "iopub.status.idle": "2024-06-09T15:19:27.174411Z",
     "shell.execute_reply": "2024-06-09T15:19:27.173366Z"
    },
    "papermill": {
     "duration": 0.63455,
     "end_time": "2024-06-09T15:19:27.176352",
     "exception": false,
     "start_time": "2024-06-09T15:19:26.541802",
     "status": "completed"
    },
    "tags": []
   },
   "outputs": [
    {
     "name": "stdout",
     "output_type": "stream",
     "text": [
      "313/313 - 0s - 2ms/step - acc: 0.9939 - loss: 0.0190\n",
      "Test Accuracy:  0.9939000010490417\n",
      "Test loss: 0.01900561898946762\n"
     ]
    }
   ],
   "source": [
    "# Evaluate the model on test data\n",
    "test_loss, test_acc = model.evaluate(x_test, y_test,verbose=2)\n",
    "print(\"Test Accuracy: \", test_acc)\n",
    "print(\"Test loss:\", test_loss)"
   ]
  },
  {
   "cell_type": "markdown",
   "id": "058f9d70",
   "metadata": {
    "papermill": {
     "duration": 0.046018,
     "end_time": "2024-06-09T15:19:27.269604",
     "exception": false,
     "start_time": "2024-06-09T15:19:27.223586",
     "status": "completed"
    },
    "tags": []
   },
   "source": [
    "## 4.1 Loss and Accuracy Curves\n",
    "Run the following cell to evaluate the loss and accuracy of our model."
   ]
  },
  {
   "cell_type": "code",
   "execution_count": 20,
   "id": "6de0995d",
   "metadata": {
    "execution": {
     "iopub.execute_input": "2024-06-09T15:19:27.363345Z",
     "iopub.status.busy": "2024-06-09T15:19:27.362989Z",
     "iopub.status.idle": "2024-06-09T15:19:27.828186Z",
     "shell.execute_reply": "2024-06-09T15:19:27.827298Z"
    },
    "papermill": {
     "duration": 0.514295,
     "end_time": "2024-06-09T15:19:27.830068",
     "exception": false,
     "start_time": "2024-06-09T15:19:27.315773",
     "status": "completed"
    },
    "tags": []
   },
   "outputs": [
    {
     "data": {
      "image/png": "[encoded data removed]",
      "text/plain": [
       "<Figure size 640x480 with 2 Axes>"
      ]
     },
     "metadata": {},
     "output_type": "display_data"
    }
   ],
   "source": [
    "fig, ax = plt.subplots(2,1)\n",
    "ax[0].plot(history.history['loss'], color='b', label=\"Training Loss\")\n",
    "ax[0].plot(history.history['val_loss'], color='r', label=\"Validation Loss\",axes =ax[0])\n",
    "legend = ax[0].legend(loc='best', shadow=True)\n",
    "\n",
    "ax[1].plot(history.history['acc'], color='b', label=\"Training Accuracy\")\n",
    "ax[1].plot(history.history['val_acc'], color='r',label=\"Validation Accuracy\")\n",
    "legend = ax[1].legend(loc='best', shadow=True)"
   ]
  },
  {
   "cell_type": "markdown",
   "id": "71492af1",
   "metadata": {
    "papermill": {
     "duration": 0.048481,
     "end_time": "2024-06-09T15:19:27.926284",
     "exception": false,
     "start_time": "2024-06-09T15:19:27.877803",
     "status": "completed"
    },
    "tags": []
   },
   "source": [
    "The accuracy increases over time and the loss decreases over time. However, the accuracy of our validation set seems to slightly decrease towards the end even thought our training accuracy increased. Running the model for more epochs might cause our model to be susceptible to overfitting."
   ]
  },
  {
   "cell_type": "markdown",
   "id": "e45bb2b0",
   "metadata": {
    "papermill": {
     "duration": 0.055326,
     "end_time": "2024-06-09T15:19:28.036410",
     "exception": false,
     "start_time": "2024-06-09T15:19:27.981084",
     "status": "completed"
    },
    "tags": []
   },
   "source": [
    "Identify any overfitting and take measures for overfitting (e.g. add dropout layer) and plot training vs testing accuracy and loss.\n",
    "\n",
    "Dropout is a regularization layer. In our model, 25% of the nodes in the layer are randomly ignores, allowing the network to learn different features. This prevents overfitting.\n"
   ]
  },
  {
   "cell_type": "code",
   "execution_count": 21,
   "id": "a3e8d3db",
   "metadata": {
    "execution": {
     "iopub.execute_input": "2024-06-09T15:19:28.142737Z",
     "iopub.status.busy": "2024-06-09T15:19:28.142405Z",
     "iopub.status.idle": "2024-06-09T15:19:28.208813Z",
     "shell.execute_reply": "2024-06-09T15:19:28.208060Z"
    },
    "papermill": {
     "duration": 0.118807,
     "end_time": "2024-06-09T15:19:28.210636",
     "exception": false,
     "start_time": "2024-06-09T15:19:28.091829",
     "status": "completed"
    },
    "tags": []
   },
   "outputs": [],
   "source": [
    "model = tf.keras.models.Sequential([\n",
    "    tf.keras.layers.Conv2D(32, (5,5), padding='same', activation='relu', input_shape=input_shape),\n",
    "    tf.keras.layers.Conv2D(32, (5,5), padding='same', activation='relu'),\n",
    "    tf.keras.layers.MaxPool2D(),\n",
    "    tf.keras.layers.Dropout(0.25),\n",
    "    tf.keras.layers.Conv2D(64, (3,3), padding='same', activation='relu'),\n",
    "    tf.keras.layers.Conv2D(64, (3,3), padding='same', activation='relu'),\n",
    "    tf.keras.layers.MaxPool2D(strides=(2,2)),\n",
    "    tf.keras.layers.Dropout(0.25),\n",
    "    tf.keras.layers.Flatten(),\n",
    "    tf.keras.layers.Dense(128, activation='relu'),\n",
    "    tf.keras.layers.Dropout(0.5),\n",
    "    tf.keras.layers.Dense(num_classes, activation='softmax')\n",
    "])\n",
    "\n",
    "model.compile(optimizer=tf.keras.optimizers.RMSprop(epsilon=1e-08), loss='categorical_crossentropy', metrics=['acc'])\n"
   ]
  },
  {
   "cell_type": "code",
   "execution_count": 22,
   "id": "c91792be",
   "metadata": {
    "execution": {
     "iopub.execute_input": "2024-06-09T15:19:28.306069Z",
     "iopub.status.busy": "2024-06-09T15:19:28.305791Z",
     "iopub.status.idle": "2024-06-09T15:19:28.310729Z",
     "shell.execute_reply": "2024-06-09T15:19:28.309958Z"
    },
    "papermill": {
     "duration": 0.0546,
     "end_time": "2024-06-09T15:19:28.312398",
     "exception": false,
     "start_time": "2024-06-09T15:19:28.257798",
     "status": "completed"
    },
    "tags": []
   },
   "outputs": [],
   "source": [
    "class myCallback(tf.keras.callbacks.Callback):\n",
    "  def on_epoch_end(self, epoch, logs={}):\n",
    "    if(logs.get('acc')>0.995):\n",
    "      print(\"\\nReached 99.5% accuracy so cancelling training!\")\n",
    "      self.model.stop_training = True\n",
    "\n",
    "callbacks = myCallback()"
   ]
  },
  {
   "cell_type": "markdown",
   "id": "348002d9",
   "metadata": {
    "papermill": {
     "duration": 0.046817,
     "end_time": "2024-06-09T15:19:28.406079",
     "exception": false,
     "start_time": "2024-06-09T15:19:28.359262",
     "status": "completed"
    },
    "tags": []
   },
   "source": [
    "Run the following cell to evaluate the loss and accuracy of our model."
   ]
  },
  {
   "cell_type": "code",
   "execution_count": 23,
   "id": "ddd20f51",
   "metadata": {
    "execution": {
     "iopub.execute_input": "2024-06-09T15:19:28.501115Z",
     "iopub.status.busy": "2024-06-09T15:19:28.500591Z",
     "iopub.status.idle": "2024-06-09T15:19:58.866461Z",
     "shell.execute_reply": "2024-06-09T15:19:58.865524Z"
    },
    "papermill": {
     "duration": 30.415854,
     "end_time": "2024-06-09T15:19:58.868676",
     "exception": false,
     "start_time": "2024-06-09T15:19:28.452822",
     "status": "completed"
    },
    "tags": []
   },
   "outputs": [
    {
     "name": "stdout",
     "output_type": "stream",
     "text": [
      "Epoch 1/5\n",
      "\u001b[1m 25/844\u001b[0m \u001b[37m━━━━━━━━━━━━━━━━━━━━\u001b[0m \u001b[1m5s\u001b[0m 6ms/step - acc: 0.2727 - loss: 2.0335"
     ]
    },
    {
     "name": "stderr",
     "output_type": "stream",
     "text": [
      "W0000 00:00:1717946374.264815      70 graph_launch.cc:671] Fallback to op-by-op mode because memset node breaks graph update\n"
     ]
    },
    {
     "name": "stdout",
     "output_type": "stream",
     "text": [
      "\u001b[1m844/844\u001b[0m \u001b[32m━━━━━━━━━━━━━━━━━━━━\u001b[0m\u001b[37m\u001b[0m \u001b[1m0s\u001b[0m 9ms/step - acc: 0.8519 - loss: 0.4554"
     ]
    },
    {
     "name": "stderr",
     "output_type": "stream",
     "text": [
      "W0000 00:00:1717946382.243235      72 graph_launch.cc:671] Fallback to op-by-op mode because memset node breaks graph update\n",
      "W0000 00:00:1717946382.807677      73 graph_launch.cc:671] Fallback to op-by-op mode because memset node breaks graph update\n"
     ]
    },
    {
     "name": "stdout",
     "output_type": "stream",
     "text": [
      "\u001b[1m844/844\u001b[0m \u001b[32m━━━━━━━━━━━━━━━━━━━━\u001b[0m\u001b[37m\u001b[0m \u001b[1m14s\u001b[0m 11ms/step - acc: 0.8519 - loss: 0.4551 - val_acc: 0.9858 - val_loss: 0.0487\n",
      "Epoch 2/5\n",
      "\u001b[1m 31/844\u001b[0m \u001b[37m━━━━━━━━━━━━━━━━━━━━\u001b[0m \u001b[1m4s\u001b[0m 5ms/step - acc: 0.9748 - loss: 0.0800"
     ]
    },
    {
     "name": "stderr",
     "output_type": "stream",
     "text": [
      "W0000 00:00:1717946383.301984      70 graph_launch.cc:671] Fallback to op-by-op mode because memset node breaks graph update\n"
     ]
    },
    {
     "name": "stdout",
     "output_type": "stream",
     "text": [
      "\u001b[1m844/844\u001b[0m \u001b[32m━━━━━━━━━━━━━━━━━━━━\u001b[0m\u001b[37m\u001b[0m \u001b[1m4s\u001b[0m 5ms/step - acc: 0.9756 - loss: 0.0845 - val_acc: 0.9900 - val_loss: 0.0367\n",
      "Epoch 3/5\n",
      "\u001b[1m844/844\u001b[0m \u001b[32m━━━━━━━━━━━━━━━━━━━━\u001b[0m\u001b[37m\u001b[0m \u001b[1m4s\u001b[0m 5ms/step - acc: 0.9824 - loss: 0.0580 - val_acc: 0.9925 - val_loss: 0.0277\n",
      "Epoch 4/5\n",
      "\u001b[1m844/844\u001b[0m \u001b[32m━━━━━━━━━━━━━━━━━━━━\u001b[0m\u001b[37m\u001b[0m \u001b[1m4s\u001b[0m 5ms/step - acc: 0.9861 - loss: 0.0477 - val_acc: 0.9932 - val_loss: 0.0279\n",
      "Epoch 5/5\n",
      "\u001b[1m844/844\u001b[0m \u001b[32m━━━━━━━━━━━━━━━━━━━━\u001b[0m\u001b[37m\u001b[0m \u001b[1m4s\u001b[0m 5ms/step - acc: 0.9880 - loss: 0.0429 - val_acc: 0.9935 - val_loss: 0.0310\n"
     ]
    }
   ],
   "source": [
    "history = model.fit(x_train, y_train,\n",
    "                    batch_size=batch_size,\n",
    "                    epochs=epochs,\n",
    "                    validation_split=0.1,\n",
    "                    callbacks=[callbacks])"
   ]
  },
  {
   "cell_type": "markdown",
   "id": "8bfadd8a",
   "metadata": {
    "papermill": {
     "duration": 0.075246,
     "end_time": "2024-06-09T15:19:59.021112",
     "exception": false,
     "start_time": "2024-06-09T15:19:58.945866",
     "status": "completed"
    },
    "tags": []
   },
   "source": [
    "Plot training vs validation accuracy and loss \n"
   ]
  },
  {
   "cell_type": "code",
   "execution_count": 24,
   "id": "c5da1dcb",
   "metadata": {
    "execution": {
     "iopub.execute_input": "2024-06-09T15:19:59.175353Z",
     "iopub.status.busy": "2024-06-09T15:19:59.174994Z",
     "iopub.status.idle": "2024-06-09T15:19:59.560191Z",
     "shell.execute_reply": "2024-06-09T15:19:59.559240Z"
    },
    "papermill": {
     "duration": 0.464294,
     "end_time": "2024-06-09T15:19:59.562197",
     "exception": false,
     "start_time": "2024-06-09T15:19:59.097903",
     "status": "completed"
    },
    "tags": []
   },
   "outputs": [
    {
     "data": {
      "image/png": "[encoded data removed]",
      "text/plain": [
       "<Figure size 640x480 with 2 Axes>"
      ]
     },
     "metadata": {},
     "output_type": "display_data"
    }
   ],
   "source": [
    "fig, ax = plt.subplots(2,1)\n",
    "ax[0].plot(history.history['loss'], color='b', label=\"Training Loss\")\n",
    "ax[0].plot(history.history['val_loss'], color='r', label=\"Test Loss\",axes =ax[0])\n",
    "legend = ax[0].legend(loc='best', shadow=True)\n",
    "\n",
    "ax[1].plot(history.history['acc'], color='b', label=\"Training Accuracy\")\n",
    "ax[1].plot(history.history['val_acc'], color='r',label=\"Test Accuracy\")\n",
    "legend = ax[1].legend(loc='best', shadow=True)"
   ]
  },
  {
   "cell_type": "markdown",
   "id": "207735fa",
   "metadata": {
    "papermill": {
     "duration": 0.07587,
     "end_time": "2024-06-09T15:19:59.715408",
     "exception": false,
     "start_time": "2024-06-09T15:19:59.639538",
     "status": "completed"
    },
    "tags": []
   },
   "source": [
    "## 4.2 Predict Results"
   ]
  },
  {
   "cell_type": "code",
   "execution_count": 25,
   "id": "e6085b1f",
   "metadata": {
    "execution": {
     "iopub.execute_input": "2024-06-09T15:19:59.877659Z",
     "iopub.status.busy": "2024-06-09T15:19:59.877286Z",
     "iopub.status.idle": "2024-06-09T15:20:01.087590Z",
     "shell.execute_reply": "2024-06-09T15:20:01.086816Z"
    },
    "papermill": {
     "duration": 1.294679,
     "end_time": "2024-06-09T15:20:01.089460",
     "exception": false,
     "start_time": "2024-06-09T15:19:59.794781",
     "status": "completed"
    },
    "tags": []
   },
   "outputs": [
    {
     "name": "stdout",
     "output_type": "stream",
     "text": [
      "\u001b[1m313/313\u001b[0m \u001b[32m━━━━━━━━━━━━━━━━━━━━\u001b[0m\u001b[37m\u001b[0m \u001b[1m1s\u001b[0m 2ms/step - acc: 0.9933 - loss: 0.0223\n"
     ]
    }
   ],
   "source": [
    "test_loss, test_acc = model.evaluate(x_test, y_test)"
   ]
  },
  {
   "cell_type": "markdown",
   "id": "f2321df7",
   "metadata": {
    "papermill": {
     "duration": 0.077059,
     "end_time": "2024-06-09T15:20:01.245104",
     "exception": false,
     "start_time": "2024-06-09T15:20:01.168045",
     "status": "completed"
    },
    "tags": []
   },
   "source": [
    "::Our model runs pretty well, with an accuracy of 99.0% on our testing data.\n"
   ]
  },
  {
   "cell_type": "markdown",
   "id": "ce963e72",
   "metadata": {
    "papermill": {
     "duration": 0.076493,
     "end_time": "2024-06-09T15:20:01.398732",
     "exception": false,
     "start_time": "2024-06-09T15:20:01.322239",
     "status": "completed"
    },
    "tags": []
   },
   "source": [
    "## 4.3 Confusion Matrix\n",
    "\n",
    "Run the following cell to compute our confusion matrix using TensorFlow."
   ]
  },
  {
   "cell_type": "code",
   "execution_count": 26,
   "id": "45e79f48",
   "metadata": {
    "execution": {
     "iopub.execute_input": "2024-06-09T15:20:01.554098Z",
     "iopub.status.busy": "2024-06-09T15:20:01.553743Z",
     "iopub.status.idle": "2024-06-09T15:20:03.523489Z",
     "shell.execute_reply": "2024-06-09T15:20:03.522449Z"
    },
    "papermill": {
     "duration": 2.050154,
     "end_time": "2024-06-09T15:20:03.525837",
     "exception": false,
     "start_time": "2024-06-09T15:20:01.475683",
     "status": "completed"
    },
    "tags": []
   },
   "outputs": [
    {
     "name": "stdout",
     "output_type": "stream",
     "text": [
      "\u001b[1m313/313\u001b[0m \u001b[32m━━━━━━━━━━━━━━━━━━━━\u001b[0m\u001b[37m\u001b[0m \u001b[1m1s\u001b[0m 3ms/step\n"
     ]
    }
   ],
   "source": [
    "# Predict the values from the testing dataset\n",
    "Y_pred = model.predict(x_test)\n",
    "# Convert predictions classes to one hot vectors \n",
    "Y_pred_classes = np.argmax(Y_pred,axis = 1) \n",
    "# Convert testing observations to one hot vectors\n",
    "Y_true = np.argmax(y_test,axis = 1)\n",
    "# compute the confusion matrix\n",
    "confusion_mtx = tf.math.confusion_matrix(Y_true, Y_pred_classes) "
   ]
  },
  {
   "cell_type": "code",
   "execution_count": 27,
   "id": "908b992c",
   "metadata": {
    "execution": {
     "iopub.execute_input": "2024-06-09T15:20:03.691418Z",
     "iopub.status.busy": "2024-06-09T15:20:03.691013Z",
     "iopub.status.idle": "2024-06-09T15:20:04.298150Z",
     "shell.execute_reply": "2024-06-09T15:20:04.297249Z"
    },
    "papermill": {
     "duration": 0.693686,
     "end_time": "2024-06-09T15:20:04.300310",
     "exception": false,
     "start_time": "2024-06-09T15:20:03.606624",
     "status": "completed"
    },
    "tags": []
   },
   "outputs": [
    {
     "data": {
      "text/plain": [
       "<Axes: >"
      ]
     },
     "execution_count": 27,
     "metadata": {},
     "output_type": "execute_result"
    },
    {
     "data": {
      "image/png": "[encoded data removed]",
      "text/plain": [
       "<Figure size 1000x800 with 2 Axes>"
      ]
     },
     "metadata": {},
     "output_type": "display_data"
    }
   ],
   "source": [
    "plt.figure(figsize=(10, 8))\n",
    "sns.heatmap(confusion_mtx, annot=True, fmt='g')"
   ]
  },
  {
   "cell_type": "markdown",
   "id": "20c2d9e6",
   "metadata": {
    "papermill": {
     "duration": 0.079535,
     "end_time": "2024-06-09T15:20:04.460953",
     "exception": false,
     "start_time": "2024-06-09T15:20:04.381418",
     "status": "completed"
    },
    "tags": []
   },
   "source": [
    "There seems to be a slightly higher confusion between (0,6) and (4,9). This is reasonable as 0's and 6's look similar with their loops and 4's and 9's can be mistaken when the 4's are more rounded and 9's are more angular."
   ]
  },
  {
   "cell_type": "code",
   "execution_count": 28,
   "id": "e452e7cf",
   "metadata": {
    "execution": {
     "iopub.execute_input": "2024-06-09T15:20:04.623666Z",
     "iopub.status.busy": "2024-06-09T15:20:04.623295Z",
     "iopub.status.idle": "2024-06-09T15:20:05.343663Z",
     "shell.execute_reply": "2024-06-09T15:20:05.342682Z"
    },
    "papermill": {
     "duration": 0.804584,
     "end_time": "2024-06-09T15:20:05.345909",
     "exception": false,
     "start_time": "2024-06-09T15:20:04.541325",
     "status": "completed"
    },
    "tags": []
   },
   "outputs": [
    {
     "name": "stdout",
     "output_type": "stream",
     "text": [
      "Accuracy: 0.995\n",
      "Loss: 0.018\n"
     ]
    }
   ],
   "source": [
    "loss, acc = model.evaluate(x_test, y_test, verbose=0)\n",
    "print('Accuracy: %.3f'  % acc)\n",
    "print('Loss: %.3f' % loss)\n"
   ]
  },
  {
   "cell_type": "markdown",
   "id": "efbedf54",
   "metadata": {
    "papermill": {
     "duration": 0.080552,
     "end_time": "2024-06-09T15:20:05.507275",
     "exception": false,
     "start_time": "2024-06-09T15:20:05.426723",
     "status": "completed"
    },
    "tags": []
   },
   "source": [
    "# **Plot a few correct predicted samples and a few misclassified samples.\n",
    "# "
   ]
  },
  {
   "cell_type": "code",
   "execution_count": 29,
   "id": "8515cfbb",
   "metadata": {
    "execution": {
     "iopub.execute_input": "2024-06-09T15:20:05.673917Z",
     "iopub.status.busy": "2024-06-09T15:20:05.673024Z",
     "iopub.status.idle": "2024-06-09T15:20:05.678891Z",
     "shell.execute_reply": "2024-06-09T15:20:05.678081Z"
    },
    "papermill": {
     "duration": 0.092384,
     "end_time": "2024-06-09T15:20:05.681068",
     "exception": false,
     "start_time": "2024-06-09T15:20:05.588684",
     "status": "completed"
    },
    "tags": []
   },
   "outputs": [],
   "source": [
    "# Show some wrong results, and the difference between the predicted label and the real labels\n",
    "errors = (Y_pred_classes - Y_true != 0)\n",
    "\n",
    "Y_pred_classes_errors = Y_pred_classes[errors]\n",
    "Y_pred_errors = Y_pred[errors]\n",
    "Y_true_errors = Y_true[errors]\n",
    "X_val_errors = x_test[errors]"
   ]
  },
  {
   "cell_type": "code",
   "execution_count": 30,
   "id": "5128dfdf",
   "metadata": {
    "execution": {
     "iopub.execute_input": "2024-06-09T15:20:05.855049Z",
     "iopub.status.busy": "2024-06-09T15:20:05.854674Z",
     "iopub.status.idle": "2024-06-09T15:20:05.862282Z",
     "shell.execute_reply": "2024-06-09T15:20:05.861349Z"
    },
    "papermill": {
     "duration": 0.09685,
     "end_time": "2024-06-09T15:20:05.864300",
     "exception": false,
     "start_time": "2024-06-09T15:20:05.767450",
     "status": "completed"
    },
    "tags": []
   },
   "outputs": [],
   "source": [
    "def display_errors(errors_index,img_errors,pred_errors, obs_errors):\n",
    "    \"\"\" This function shows 6 images with their predicted and real labels\"\"\"\n",
    "    n = 0\n",
    "    nrows = 2\n",
    "    ncols = 3\n",
    "    fig, ax = plt.subplots(nrows,ncols,sharex=True,sharey=True)\n",
    "    for row in range(nrows):\n",
    "        for col in range(ncols):\n",
    "            error = errors_index[n]\n",
    "            ax[row,col].imshow((img_errors[error]).reshape((28,28)))\n",
    "            ax[row,col].set_title(\"Predicted label :{}\\nTrue label :{}\".format(pred_errors[error],obs_errors[error]))\n",
    "            n += 1"
   ]
  },
  {
   "cell_type": "code",
   "execution_count": 31,
   "id": "56b35f18",
   "metadata": {
    "execution": {
     "iopub.execute_input": "2024-06-09T15:20:06.026720Z",
     "iopub.status.busy": "2024-06-09T15:20:06.026044Z",
     "iopub.status.idle": "2024-06-09T15:20:07.325452Z",
     "shell.execute_reply": "2024-06-09T15:20:07.324494Z"
    },
    "papermill": {
     "duration": 1.382954,
     "end_time": "2024-06-09T15:20:07.327529",
     "exception": false,
     "start_time": "2024-06-09T15:20:05.944575",
     "status": "completed"
    },
    "tags": []
   },
   "outputs": [
    {
     "data": {
      "image/png": "[encoded data removed]",
      "text/plain": [
       "<Figure size 640x480 with 6 Axes>"
      ]
     },
     "metadata": {},
     "output_type": "display_data"
    }
   ],
   "source": [
    "# Probabilities of the wrong predicted numbers\n",
    "Y_pred_errors_prob = np.max(Y_pred_errors,axis = 1)\n",
    "\n",
    "# Predicted probabilities of the true values in the error set\n",
    "true_prob_errors = np.diagonal(np.take(Y_pred_errors, Y_true_errors, axis=1))\n",
    "\n",
    "# Difference between the probability of the predicted label and the true label\n",
    "delta_pred_true_errors = Y_pred_errors_prob - true_prob_errors\n",
    "\n",
    "# Sorted list of the delta prob errors\n",
    "sorted_dela_errors = np.argsort(delta_pred_true_errors)\n",
    "\n",
    "# Top 6 errors \n",
    "most_important_errors = sorted_dela_errors[-6:]\n",
    "\n",
    "# Show the top 6 errors\n",
    "display_errors(most_important_errors, X_val_errors, Y_pred_classes_errors, Y_true_errors)"
   ]
  },
  {
   "cell_type": "code",
   "execution_count": 32,
   "id": "4f6f6602",
   "metadata": {
    "execution": {
     "iopub.execute_input": "2024-06-09T15:20:07.491269Z",
     "iopub.status.busy": "2024-06-09T15:20:07.490589Z",
     "iopub.status.idle": "2024-06-09T15:20:08.181990Z",
     "shell.execute_reply": "2024-06-09T15:20:08.181210Z"
    },
    "papermill": {
     "duration": 0.775463,
     "end_time": "2024-06-09T15:20:08.184250",
     "exception": false,
     "start_time": "2024-06-09T15:20:07.408787",
     "status": "completed"
    },
    "tags": []
   },
   "outputs": [
    {
     "name": "stdout",
     "output_type": "stream",
     "text": [
      "\u001b[1m313/313\u001b[0m \u001b[32m━━━━━━━━━━━━━━━━━━━━\u001b[0m\u001b[37m\u001b[0m \u001b[1m0s\u001b[0m 1ms/step\n"
     ]
    }
   ],
   "source": [
    "#get the predictions for the test data\n",
    "Y_pred = model.predict(x_test)\n",
    "#get the indices to be plotted\n",
    "y_true = np.argmax(y_test,axis=1)\n"
   ]
  },
  {
   "cell_type": "code",
   "execution_count": 33,
   "id": "a0283668",
   "metadata": {
    "execution": {
     "iopub.execute_input": "2024-06-09T15:20:08.350261Z",
     "iopub.status.busy": "2024-06-09T15:20:08.349520Z",
     "iopub.status.idle": "2024-06-09T15:20:08.354345Z",
     "shell.execute_reply": "2024-06-09T15:20:08.353572Z"
    },
    "papermill": {
     "duration": 0.08956,
     "end_time": "2024-06-09T15:20:08.356148",
     "exception": false,
     "start_time": "2024-06-09T15:20:08.266588",
     "status": "completed"
    },
    "tags": []
   },
   "outputs": [],
   "source": [
    "correct = np.nonzero(Y_pred_classes==y_true)[0]\n",
    "misclassified = np.nonzero(Y_pred_classes!=y_true)[0]"
   ]
  },
  {
   "cell_type": "code",
   "execution_count": 34,
   "id": "6539e627",
   "metadata": {
    "execution": {
     "iopub.execute_input": "2024-06-09T15:20:08.521864Z",
     "iopub.status.busy": "2024-06-09T15:20:08.520993Z",
     "iopub.status.idle": "2024-06-09T15:20:08.526248Z",
     "shell.execute_reply": "2024-06-09T15:20:08.525413Z"
    },
    "papermill": {
     "duration": 0.089875,
     "end_time": "2024-06-09T15:20:08.528355",
     "exception": false,
     "start_time": "2024-06-09T15:20:08.438480",
     "status": "completed"
    },
    "tags": []
   },
   "outputs": [
    {
     "name": "stdout",
     "output_type": "stream",
     "text": [
      "Correct predicted classes: 9948\n",
      "Misclassified predicted classes: 52\n"
     ]
    }
   ],
   "source": [
    "print(\"Correct predicted classes:\",correct.shape[0])\n",
    "print(\"Misclassified predicted classes:\",misclassified.shape[0])\n"
   ]
  },
  {
   "cell_type": "markdown",
   "id": "918ded11",
   "metadata": {
    "papermill": {
     "duration": 0.082743,
     "end_time": "2024-06-09T15:20:08.693116",
     "exception": false,
     "start_time": "2024-06-09T15:20:08.610373",
     "status": "completed"
    },
    "tags": []
   },
   "source": [
    "# Displaying some Correct predicted samples"
   ]
  },
  {
   "cell_type": "code",
   "execution_count": 35,
   "id": "ce34a7b4",
   "metadata": {
    "execution": {
     "iopub.execute_input": "2024-06-09T15:20:08.863830Z",
     "iopub.status.busy": "2024-06-09T15:20:08.862627Z",
     "iopub.status.idle": "2024-06-09T15:20:10.270014Z",
     "shell.execute_reply": "2024-06-09T15:20:10.269066Z"
    },
    "papermill": {
     "duration": 1.4933,
     "end_time": "2024-06-09T15:20:10.272052",
     "exception": false,
     "start_time": "2024-06-09T15:20:08.778752",
     "status": "completed"
    },
    "tags": []
   },
   "outputs": [
    {
     "data": {
      "image/png": "[encoded data removed]",
      "text/plain": [
       "<Figure size 1200x1200 with 25 Axes>"
      ]
     },
     "metadata": {},
     "output_type": "display_data"
    }
   ],
   "source": [
    "def plot_images(data_index,cmap=\"Blues\"):\n",
    "    # Plot the sample images now\n",
    "    f, ax = plt.subplots(5,5, figsize=(12,12))\n",
    "\n",
    "    for i, indx in enumerate(data_index[:25]):\n",
    "        ax[i//5, i%5].imshow(x_test[indx].reshape(28,28), cmap=cmap)\n",
    "        ax[i//5, i%5].axis('off')\n",
    "        ax[i//5, i%5].set_title(\"True:{}  Pred:{}\".format(y_true[indx],Y_pred_classes[indx]))\n",
    "    plt.show()    \n",
    "\n",
    "plot_images(correct, \"Greens\")"
   ]
  },
  {
   "cell_type": "markdown",
   "id": "defd551c",
   "metadata": {
    "papermill": {
     "duration": 0.082755,
     "end_time": "2024-06-09T15:20:10.437331",
     "exception": false,
     "start_time": "2024-06-09T15:20:10.354576",
     "status": "completed"
    },
    "tags": []
   },
   "source": [
    "# Displaying some Misclassified predicted samples"
   ]
  },
  {
   "cell_type": "code",
   "execution_count": 36,
   "id": "eda7fe80",
   "metadata": {
    "execution": {
     "iopub.execute_input": "2024-06-09T15:20:10.605070Z",
     "iopub.status.busy": "2024-06-09T15:20:10.604335Z",
     "iopub.status.idle": "2024-06-09T15:20:12.004345Z",
     "shell.execute_reply": "2024-06-09T15:20:12.003449Z"
    },
    "papermill": {
     "duration": 1.486413,
     "end_time": "2024-06-09T15:20:12.006478",
     "exception": false,
     "start_time": "2024-06-09T15:20:10.520065",
     "status": "completed"
    },
    "tags": []
   },
   "outputs": [
    {
     "data": {
      "image/png": "[encoded data removed]",
      "text/plain": [
       "<Figure size 1200x1200 with 25 Axes>"
      ]
     },
     "metadata": {},
     "output_type": "display_data"
    }
   ],
   "source": [
    "plot_images(misclassified, \"Reds\")\n"
   ]
  },
  {
   "cell_type": "markdown",
   "id": "f1140406",
   "metadata": {
    "papermill": {
     "duration": 0.083711,
     "end_time": "2024-06-09T15:20:12.173346",
     "exception": false,
     "start_time": "2024-06-09T15:20:12.089635",
     "status": "completed"
    },
    "tags": []
   },
   "source": [
    "**Thank you**"
   ]
  }
 ],
 "metadata": {
  "kaggle": {
   "accelerator": "nvidiaTeslaT4",
   "dataSources": [
    {
     "databundleVersionId": 861823,
     "sourceId": 3004,
     "sourceType": "competition"
    }
   ],
   "isGpuEnabled": true,
   "isInternetEnabled": true,
   "language": "python",
   "sourceType": "notebook"
  },
  "kernelspec": {
   "display_name": "Python 3 (ipykernel)",
   "language": "python",
   "name": "python3"
  },
  "language_info": {
   "codemirror_mode": {
    "name": "ipython",
    "version": 3
   },
   "file_extension": ".py",
   "mimetype": "text/x-python",
   "name": "python",
   "nbconvert_exporter": "python",
   "pygments_lexer": "ipython3",
   "version": "3.11.7"
  },
  "papermill": {
   "default_parameters": {},
   "duration": 102.219702,
   "end_time": "2024-06-09T15:20:14.826585",
   "environment_variables": {},
   "exception": null,
   "input_path": "__notebook__.ipynb",
   "output_path": "__notebook__.ipynb",
   "parameters": {},
   "start_time": "2024-06-09T15:18:32.606883",
   "version": "2.5.0"
  }
 },
 "nbformat": 4,
 "nbformat_minor": 5
}
